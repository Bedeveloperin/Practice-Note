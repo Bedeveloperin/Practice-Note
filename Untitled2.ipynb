{
 "cells": [
  {
   "cell_type": "code",
   "execution_count": 1,
   "id": "f432bf25-ae3f-425e-a73a-3d711c024fc7",
   "metadata": {},
   "outputs": [
    {
     "name": "stdout",
     "output_type": "stream",
     "text": [
      "      Order ID Order Date  Order Quantity       Sales       Ship Mode  \\\n",
      "0            3 2010-10-13               6    261.5400     Regular Air   \n",
      "1            6 2012-02-20               2      6.9300     Regular Air   \n",
      "2           32 2011-07-15              26   2808.0800     Regular Air   \n",
      "3           32 2011-07-15              24   1761.4000  Delivery Truck   \n",
      "4           32 2011-07-15              23    160.2335     Regular Air   \n",
      "...        ...        ...             ...         ...             ...   \n",
      "1002      7171 2011-02-13              17    303.1865     Regular Air   \n",
      "1003      7174 2012-03-10              10    141.9200     Regular Air   \n",
      "1004      7175 2010-02-07              10    748.2500  Delivery Truck   \n",
      "1005      7203 2009-01-08              25  21752.0100     Regular Air   \n",
      "1006      7239 2011-06-29              50   6206.1600     Regular Air   \n",
      "\n",
      "        Profit  Unit Price       Customer Name Customer Segment  \\\n",
      "0     -213.250       38.94  Muhammed MacIntyre   Small Business   \n",
      "1       -4.640        2.08         Ruben Dartt        Corporate   \n",
      "2     1054.820      107.53       Liz Pelletier        Corporate   \n",
      "3    -1748.560       70.89       Liz Pelletier        Corporate   \n",
      "4      -85.129        7.99       Liz Pelletier        Corporate   \n",
      "...        ...         ...                 ...              ...   \n",
      "1002    92.592       20.99        Andy Gerbode         Consumer   \n",
      "1003    12.200       13.73     Thomas Thornton         Consumer   \n",
      "1004   -86.990       70.98      Helen Andreada        Corporate   \n",
      "1005  9296.348      896.99         Ruben Dartt        Corporate   \n",
      "1006  1416.270      120.33       Craig Carroll   Small Business   \n",
      "\n",
      "     Product Category  \n",
      "0     Office Supplies  \n",
      "1     Office Supplies  \n",
      "2           Furniture  \n",
      "3           Furniture  \n",
      "4          Technology  \n",
      "...               ...  \n",
      "1002       Technology  \n",
      "1003        Furniture  \n",
      "1004        Furniture  \n",
      "1005  Office Supplies  \n",
      "1006  Office Supplies  \n",
      "\n",
      "[1007 rows x 10 columns]\n"
     ]
    }
   ],
   "source": [
    "import numpy as np\n",
    "import pandas as pd\n",
    "data = pd.read_excel(\"order.xlsx\")\n",
    "df = pd.DataFrame(data)\n",
    "print(df)"
   ]
  },
  {
   "cell_type": "code",
   "execution_count": null,
   "id": "f64f237a-66d9-41ae-bd20-589e6fab1410",
   "metadata": {},
   "outputs": [],
   "source": []
  }
 ],
 "metadata": {
  "kernelspec": {
   "display_name": "Python 3",
   "language": "python",
   "name": "python3"
  },
  "language_info": {
   "codemirror_mode": {
    "name": "ipython",
    "version": 3
   },
   "file_extension": ".py",
   "mimetype": "text/x-python",
   "name": "python",
   "nbconvert_exporter": "python",
   "pygments_lexer": "ipython3",
   "version": "3.6.7"
  }
 },
 "nbformat": 4,
 "nbformat_minor": 5
}
